{
 "cells": [
  {
   "cell_type": "markdown",
   "metadata": {},
   "source": [
    "**1. Write a program to iterate the first 10 numbers, and in each iteration, print the sum of\n",
    "the current and previous number.**"
   ]
  },
  {
   "cell_type": "code",
   "execution_count": 2,
   "metadata": {},
   "outputs": [
    {
     "name": "stdout",
     "output_type": "stream",
     "text": [
      "0\n",
      "1\n",
      "3\n",
      "6\n",
      "10\n",
      "15\n",
      "21\n",
      "28\n",
      "36\n",
      "45\n"
     ]
    }
   ],
   "source": [
    "j = 0\n",
    "for i in range(10):\n",
    "    j += i\n",
    "    print(j)"
   ]
  },
  {
   "cell_type": "markdown",
   "metadata": {},
   "source": [
    "2. Print the following pattern\n",
    "1\n",
    "2 2\n",
    "3 3 3\n",
    "4 4 4 4\n",
    "5 5 5 5 5"
   ]
  },
  {
   "cell_type": "code",
   "execution_count": 8,
   "metadata": {},
   "outputs": [
    {
     "name": "stdout",
     "output_type": "stream",
     "text": [
      "1 \n",
      "2 2 \n",
      "3 3 3 \n",
      "4 4 4 4 \n",
      "5 5 5 5 5 \n"
     ]
    }
   ],
   "source": [
    "for i in range(1,6):\n",
    "    for j in range(i):\n",
    "        print(i,end = \" \")\n",
    "    print()"
   ]
  },
  {
   "cell_type": "markdown",
   "metadata": {},
   "source": [
    "3. List is given below:\n",
    "numbers = [12, 75, 150, 180, 145, 525, 50]\n",
    "Write a program to display only those numbers from a list that satisfy the following\n",
    "conditions\n",
    "i. The number must be divisible by five\n",
    "ii. If the number is greater than 150, then skip it and move to the next number\n",
    "iii. If the number is greater than 500, then stop the loop"
   ]
  },
  {
   "cell_type": "code",
   "execution_count": 14,
   "metadata": {},
   "outputs": [
    {
     "name": "stdout",
     "output_type": "stream",
     "text": [
      "#1\n",
      "75\n",
      "150\n",
      "180\n",
      "145\n",
      "525\n",
      "50\n",
      "\n",
      "#2\n",
      "12\n",
      "75\n",
      "150\n",
      "145\n",
      "50\n",
      "\n",
      "#3\n",
      "12\n",
      "75\n",
      "150\n",
      "180\n",
      "145\n"
     ]
    }
   ],
   "source": [
    "# 1)\n",
    "print('#1')\n",
    "numbers = [12, 75, 150, 180, 145, 525, 50]\n",
    "for i in numbers:\n",
    "    if (i%5 == 0):\n",
    "        print(i)\n",
    "print()\n",
    "\n",
    "print('#2')\n",
    "# 2) \n",
    "for i in numbers:\n",
    "    if (i > 150):\n",
    "        continue\n",
    "    else:\n",
    "        print(i)\n",
    "print()        \n",
    "        \n",
    "print('#3')\n",
    "# 3) \n",
    "for i in numbers:\n",
    "    if (i > 500):\n",
    "        break\n",
    "    else:\n",
    "        print(i)"
   ]
  },
  {
   "cell_type": "markdown",
   "metadata": {},
   "source": [
    "4. Display Fibonacci series up to 10 terms\n",
    "The Fibonacci Sequence is a series of numbers. The next number is found by adding\n",
    "up the two numbers before it. The first two numbers are 0 and 1.\n",
    "For example, 0, 1, 1, 2, 3, 5, 8, 13, 21. The next number in this series above is\n",
    "13+21 = 34"
   ]
  },
  {
   "cell_type": "code",
   "execution_count": 29,
   "metadata": {},
   "outputs": [
    {
     "name": "stdout",
     "output_type": "stream",
     "text": [
      "0 , 1, 1, 2, 3, 5, 8, 13, 21, 34"
     ]
    }
   ],
   "source": [
    "num1 = 0\n",
    "num2 = 1\n",
    "print(num1, \",\", num2,end = \"\")\n",
    "for i in range(8):\n",
    "    num3 = num1 + num2\n",
    "    print(\",\",num3,end = \"\")\n",
    "    num1 = num2\n",
    "    num2 = num3\n"
   ]
  },
  {
   "cell_type": "markdown",
   "metadata": {},
   "source": [
    "5. Write a program to use the loop to find the factorial of a given number.\n",
    "The factorial (symbol: !) means to multiply all whole numbers from the chosen number\n",
    "down to 1.\n",
    "For example: calculate the factorial of 5\n",
    "5! = 5 × 4 × 3 × 2 × 1 = 120"
   ]
  },
  {
   "cell_type": "code",
   "execution_count": 67,
   "metadata": {},
   "outputs": [
    {
     "name": "stdout",
     "output_type": "stream",
     "text": [
      "120\n"
     ]
    }
   ],
   "source": [
    "num = int(input(\"Enter number for factorial: \"))\n",
    "sum = 1\n",
    "while(num != 0):\n",
    "    sum = sum*num\n",
    "    num -= 1\n",
    "    \n",
    "print(sum)"
   ]
  },
  {
   "cell_type": "markdown",
   "metadata": {},
   "source": [
    "6. Write a program to iterate a given list and count the occurrence of each element and\n",
    "print to show the count of each element.\n",
    "<br>\n",
    "sample_list = [11, 45, 8, 11, 23, 45, 23, 45, 89]\n",
    "<br>\n",
    "\n",
    "Expected Output:\n",
    "Printing count of each item\n",
    "11: 2, 45: 3, 8: 1, 23: 2, 89: 1"
   ]
  },
  {
   "cell_type": "code",
   "execution_count": 71,
   "metadata": {},
   "outputs": [
    {
     "data": {
      "text/plain": [
       "{11: 2, 45: 3, 8: 1, 23: 2, 89: 1}"
      ]
     },
     "execution_count": 71,
     "metadata": {},
     "output_type": "execute_result"
    }
   ],
   "source": [
    "list = [11, 45, 8, 11, 23, 45, 23, 45, 89]\n",
    "count = {}\n",
    "\n",
    "for item in list:\n",
    "    if item in count:\n",
    "        count[item] +=1\n",
    "    else:\n",
    "        count[item] = 1\n",
    "count"
   ]
  },
  {
   "cell_type": "markdown",
   "metadata": {},
   "source": [
    "7. Given two lists, l1 and l2, write a program to create a third list l3 by picking an\n",
    "odd-index element from the list l1 and even index elements from the list l2.\n",
    "Given:\n",
    "<br>\n",
    "l1 = [3, 6, 9, 12, 15, 18, 21]\n",
    "<br>\n",
    "l2 = [4, 8, 12, 16, 20, 24, 28]\n"
   ]
  },
  {
   "cell_type": "code",
   "execution_count": 81,
   "metadata": {},
   "outputs": [
    {
     "data": {
      "text/plain": [
       "[6, 12, 18, 12, 20, 28]"
      ]
     },
     "execution_count": 81,
     "metadata": {},
     "output_type": "execute_result"
    }
   ],
   "source": [
    "l1 = [3, 6, 9, 12, 15, 18, 21]\n",
    "l2 = [4, 8, 12, 16, 20, 24, 28]\n",
    "l3 = []\n",
    "# for i in range(1,len(l1),2):\n",
    "#     l3.append(l1[i])\n",
    "#     l3.append(l2[i+1])\n",
    "    \n",
    "# OR\n",
    "for i in range(1,len(l1),2):\n",
    "    l3.append(l1[i])\n",
    "for i in range(2,len(l1),2):\n",
    "    l3.append(l2[i])\n",
    "l3"
   ]
  },
  {
   "cell_type": "code",
   "execution_count": null,
   "metadata": {},
   "outputs": [],
   "source": []
  }
 ],
 "metadata": {
  "kernelspec": {
   "display_name": "Python 3",
   "language": "python",
   "name": "python3"
  },
  "language_info": {
   "codemirror_mode": {
    "name": "ipython",
    "version": 3
   },
   "file_extension": ".py",
   "mimetype": "text/x-python",
   "name": "python",
   "nbconvert_exporter": "python",
   "pygments_lexer": "ipython3",
   "version": "3.11.1"
  }
 },
 "nbformat": 4,
 "nbformat_minor": 2
}
